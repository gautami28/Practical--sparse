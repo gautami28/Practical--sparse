{
  "nbformat": 4,
  "nbformat_minor": 0,
  "metadata": {
    "colab": {
      "name": "Sparse.ipynb",
      "provenance": [],
      "collapsed_sections": [],
      "authorship_tag": "ABX9TyO6JbVBnvFGN2609RO0XQvL",
      "include_colab_link": true
    },
    "kernelspec": {
      "name": "python3",
      "display_name": "Python 3"
    },
    "language_info": {
      "name": "python"
    }
  },
  "cells": [
    {
      "cell_type": "markdown",
      "metadata": {
        "id": "view-in-github",
        "colab_type": "text"
      },
      "source": [
        "<a href=\"https://colab.research.google.com/github/gautami28/Practical--sparse/blob/main/Sparse.ipynb\" target=\"_parent\"><img src=\"https://colab.research.google.com/assets/colab-badge.svg\" alt=\"Open In Colab\"/></a>"
      ]
    },
    {
      "cell_type": "code",
      "metadata": {
        "colab": {
          "base_uri": "https://localhost:8080/"
        },
        "id": "c1ZdpU6RusAw",
        "outputId": "b95766e0-2a82-4a14-df74-158c7986c59a"
      },
      "source": [
        "A = int(input(\"Enter the number of rows:\"))\n",
        "B = int(input(\"Enter the number of columns:\"))\n",
        "\n",
        "matrix1 = []\n",
        "for i in range(A):          \n",
        "  a =[]\n",
        "  for j in range(B):     \n",
        "      a.append(int(input()))\n",
        "  matrix1.append(a)\n",
        "\n",
        "for i in range(A):\n",
        "  for j in range(B):\n",
        "      print(matrix1[i][j], end = \" \")\n",
        "  print()\n",
        "\n",
        "sparse_mat =[]\n",
        "sparse_mat1 = []\n",
        "\n",
        "\n",
        "for i in range (len(matrix1)):\n",
        "  for j in range (len(matrix1[0])):\n",
        "    if (matrix1[i][j] !=0 ):\n",
        "      b = []\n",
        "      b.append(i)\n",
        "      b.append(j)\n",
        "      b.append(matrix1[i][j])\n",
        "\n",
        "      sparse_mat.append(b)\n",
        "print(sparse_mat)\n",
        "\n",
        "matrix2 = []\n",
        "for i in range(A):          \n",
        "  a =[]\n",
        "  for j in range(B):     \n",
        "      a.append(int(input()))\n",
        "  matrix2.append(a)\n",
        "\n",
        "for i in range(A):\n",
        "  for j in range(B):\n",
        "      print(matrix2[i][j], end = \" \")\n",
        "  print()\n",
        "\n",
        "\n",
        "for i in range (len(matrix2)):\n",
        "  for j in range (len(matrix2[0])):\n",
        "    if (matrix2[i][j] !=0 ):\n",
        "      a = []\n",
        "      a.append(i)\n",
        "      a.append(j)\n",
        "      a.append(matrix1[i][j])\n",
        "\n",
        "      sparse_mat1.append(a)\n",
        "print(sparse_mat1)\n",
        "\n",
        "def add(sparse_mat,sparse_mat1):\n",
        "  result = [[0,0,0],[0,0,0],[0,0,0],[0,0,0],[0,0,0]]\n",
        "  print(\"addition\")\n",
        "  for i in range(len(sparse_mat)):  \n",
        "    for j in range(len(sparse_mat[0])):  \n",
        "       result[i][j] = sparse_mat[i][j] + sparse_mat1[i][j]\n",
        "  print(result)\n",
        "\n",
        "add(sparse_mat,sparse_mat1)\n",
        "\n",
        "def transpose(sparse_mat):\n",
        "  Res = []\n",
        "  print(\"transpose0\")\n",
        "  for i in sparse_mat:\n",
        "    Res.append([i[1], i[0], i[2]])\n",
        "  print(Res)\n",
        "\n",
        "transpose(sparse_mat)\n",
        "transpose(sparse_mat1)"
      ],
      "execution_count": 6,
      "outputs": [
        {
          "output_type": "stream",
          "name": "stdout",
          "text": [
            "Enter the number of rows:3\n",
            "Enter the number of columns:3\n",
            "1\n",
            "2\n",
            "0\n",
            "0\n",
            "3\n",
            "0\n",
            "0\n",
            "5\n",
            "0\n",
            "1 2 0 \n",
            "0 3 0 \n",
            "0 5 0 \n",
            "[[0, 0, 1], [0, 1, 2], [1, 1, 3], [2, 1, 5]]\n",
            "2\n",
            "0\n",
            "0\n",
            "4\n",
            "5\n",
            "0\n",
            "0\n",
            "2\n",
            "0\n",
            "2 0 0 \n",
            "4 5 0 \n",
            "0 2 0 \n",
            "[[0, 0, 1], [1, 0, 0], [1, 1, 3], [2, 1, 5]]\n",
            "addition\n",
            "[[0, 0, 2], [1, 1, 2], [2, 2, 6], [4, 2, 10], [0, 0, 0]]\n",
            "transpose0\n",
            "[[0, 0, 1], [1, 0, 2], [1, 1, 3], [1, 2, 5]]\n",
            "transpose0\n",
            "[[0, 0, 1], [0, 1, 0], [1, 1, 3], [1, 2, 5]]\n"
          ]
        }
      ]
    }
  ]
}